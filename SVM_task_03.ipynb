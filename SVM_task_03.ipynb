{
 "cells": [
  {
   "cell_type": "code",
   "execution_count": 1,
   "id": "3b0e370b",
   "metadata": {},
   "outputs": [],
   "source": [
    "import tensorflow as tf \n",
    "from tensorflow import keras\n",
    "from tensorflow.keras import layers\n",
    "import seaborn as sns\n",
    "import pandas as pd\n",
    "import numpy as np"
   ]
  },
  {
   "cell_type": "code",
   "execution_count": 2,
   "id": "ef855568",
   "metadata": {},
   "outputs": [],
   "source": [
    "import matplotlib.pyplot as plt"
   ]
  },
  {
   "cell_type": "code",
   "execution_count": 3,
   "id": "7c0de983",
   "metadata": {},
   "outputs": [],
   "source": [
    "df=pd.read_csv('test_1.csv') #read the csv data"
   ]
  },
  {
   "cell_type": "code",
   "execution_count": 4,
   "id": "5056cc37",
   "metadata": {},
   "outputs": [
    {
     "data": {
      "text/html": [
       "<div>\n",
       "<style scoped>\n",
       "    .dataframe tbody tr th:only-of-type {\n",
       "        vertical-align: middle;\n",
       "    }\n",
       "\n",
       "    .dataframe tbody tr th {\n",
       "        vertical-align: top;\n",
       "    }\n",
       "\n",
       "    .dataframe thead th {\n",
       "        text-align: right;\n",
       "    }\n",
       "</style>\n",
       "<table border=\"1\" class=\"dataframe\">\n",
       "  <thead>\n",
       "    <tr style=\"text-align: right;\">\n",
       "      <th></th>\n",
       "      <th>A</th>\n",
       "      <th>B</th>\n",
       "      <th>C</th>\n",
       "      <th>D</th>\n",
       "      <th>E</th>\n",
       "      <th>F</th>\n",
       "      <th>G</th>\n",
       "    </tr>\n",
       "  </thead>\n",
       "  <tbody>\n",
       "    <tr>\n",
       "      <th>0</th>\n",
       "      <td>21.6</td>\n",
       "      <td>292.0</td>\n",
       "      <td>65</td>\n",
       "      <td>3</td>\n",
       "      <td>22.19</td>\n",
       "      <td>24.51</td>\n",
       "      <td>29.06</td>\n",
       "    </tr>\n",
       "    <tr>\n",
       "      <th>1</th>\n",
       "      <td>36.0</td>\n",
       "      <td>122.4</td>\n",
       "      <td>65</td>\n",
       "      <td>3</td>\n",
       "      <td>9.31</td>\n",
       "      <td>10.29</td>\n",
       "      <td>12.20</td>\n",
       "    </tr>\n",
       "    <tr>\n",
       "      <th>2</th>\n",
       "      <td>36.0</td>\n",
       "      <td>187.2</td>\n",
       "      <td>65</td>\n",
       "      <td>3</td>\n",
       "      <td>14.24</td>\n",
       "      <td>15.73</td>\n",
       "      <td>18.65</td>\n",
       "    </tr>\n",
       "    <tr>\n",
       "      <th>3</th>\n",
       "      <td>36.0</td>\n",
       "      <td>252.0</td>\n",
       "      <td>65</td>\n",
       "      <td>3</td>\n",
       "      <td>19.18</td>\n",
       "      <td>21.18</td>\n",
       "      <td>25.11</td>\n",
       "    </tr>\n",
       "    <tr>\n",
       "      <th>4</th>\n",
       "      <td>36.0</td>\n",
       "      <td>374.4</td>\n",
       "      <td>65</td>\n",
       "      <td>3</td>\n",
       "      <td>37.31</td>\n",
       "      <td>31.46</td>\n",
       "      <td>37.31</td>\n",
       "    </tr>\n",
       "  </tbody>\n",
       "</table>\n",
       "</div>"
      ],
      "text/plain": [
       "      A      B   C  D      E      F      G\n",
       "0  21.6  292.0  65  3  22.19  24.51  29.06\n",
       "1  36.0  122.4  65  3   9.31  10.29  12.20\n",
       "2  36.0  187.2  65  3  14.24  15.73  18.65\n",
       "3  36.0  252.0  65  3  19.18  21.18  25.11\n",
       "4  36.0  374.4  65  3  37.31  31.46  37.31"
      ]
     },
     "execution_count": 4,
     "metadata": {},
     "output_type": "execute_result"
    }
   ],
   "source": [
    "df.head()"
   ]
  },
  {
   "cell_type": "code",
   "execution_count": 5,
   "id": "915e3ee3",
   "metadata": {},
   "outputs": [
    {
     "data": {
      "text/plain": [
       "A    float64\n",
       "B    float64\n",
       "C      int64\n",
       "D      int64\n",
       "E    float64\n",
       "F    float64\n",
       "G    float64\n",
       "dtype: object"
      ]
     },
     "execution_count": 5,
     "metadata": {},
     "output_type": "execute_result"
    }
   ],
   "source": [
    "df.dtypes"
   ]
  },
  {
   "cell_type": "code",
   "execution_count": 6,
   "id": "3fb56717",
   "metadata": {},
   "outputs": [
    {
     "name": "stdout",
     "output_type": "stream",
     "text": [
      "A    float64\n",
      "B    float64\n",
      "C    float64\n",
      "D      int64\n",
      "E    float64\n",
      "F    float64\n",
      "G    float64\n",
      "dtype: object\n"
     ]
    }
   ],
   "source": [
    "# df['C'].astype(float)\n",
    "df['C'] = df['C'].astype(float)\n",
    "print(df.dtypes)"
   ]
  },
  {
   "cell_type": "code",
   "execution_count": 7,
   "id": "313ebfe8",
   "metadata": {},
   "outputs": [
    {
     "name": "stdout",
     "output_type": "stream",
     "text": [
      "A    float64\n",
      "B    float64\n",
      "C    float64\n",
      "D    float64\n",
      "E    float64\n",
      "F    float64\n",
      "G    float64\n",
      "dtype: object\n"
     ]
    }
   ],
   "source": [
    "df['D'] = df['D'].astype(float)\n",
    "print(df.dtypes)"
   ]
  },
  {
   "cell_type": "code",
   "execution_count": 8,
   "id": "f15b339d",
   "metadata": {},
   "outputs": [
    {
     "name": "stdout",
     "output_type": "stream",
     "text": [
      "A    float64\n",
      "B    float64\n",
      "C    float64\n",
      "D    float64\n",
      "E    float64\n",
      "F    float64\n",
      "G      int32\n",
      "dtype: object\n"
     ]
    }
   ],
   "source": [
    "df['G'] = df['G'].astype(int)\n",
    "print(df.dtypes)"
   ]
  },
  {
   "cell_type": "code",
   "execution_count": 9,
   "id": "ad4557de",
   "metadata": {},
   "outputs": [
    {
     "name": "stdout",
     "output_type": "stream",
     "text": [
      "A    float64\n",
      "B    float64\n",
      "C    float64\n",
      "D    float64\n",
      "E      int32\n",
      "F    float64\n",
      "G      int32\n",
      "dtype: object\n"
     ]
    }
   ],
   "source": [
    "df['E'] = df['E'].astype(int)\n",
    "print(df.dtypes)"
   ]
  },
  {
   "cell_type": "code",
   "execution_count": 10,
   "id": "fe5bd986",
   "metadata": {},
   "outputs": [
    {
     "name": "stdout",
     "output_type": "stream",
     "text": [
      "<class 'pandas.core.frame.DataFrame'>\n",
      "RangeIndex: 300 entries, 0 to 299\n",
      "Data columns (total 7 columns):\n",
      " #   Column  Non-Null Count  Dtype  \n",
      "---  ------  --------------  -----  \n",
      " 0   A       300 non-null    float64\n",
      " 1   B       300 non-null    float64\n",
      " 2   C       300 non-null    float64\n",
      " 3   D       300 non-null    float64\n",
      " 4   E       300 non-null    int32  \n",
      " 5   F       300 non-null    float64\n",
      " 6   G       300 non-null    int32  \n",
      "dtypes: float64(5), int32(2)\n",
      "memory usage: 14.2 KB\n"
     ]
    }
   ],
   "source": [
    "df.info()"
   ]
  },
  {
   "cell_type": "code",
   "execution_count": 11,
   "id": "070ff736",
   "metadata": {},
   "outputs": [
    {
     "data": {
      "text/html": [
       "<div>\n",
       "<style scoped>\n",
       "    .dataframe tbody tr th:only-of-type {\n",
       "        vertical-align: middle;\n",
       "    }\n",
       "\n",
       "    .dataframe tbody tr th {\n",
       "        vertical-align: top;\n",
       "    }\n",
       "\n",
       "    .dataframe thead th {\n",
       "        text-align: right;\n",
       "    }\n",
       "</style>\n",
       "<table border=\"1\" class=\"dataframe\">\n",
       "  <thead>\n",
       "    <tr style=\"text-align: right;\">\n",
       "      <th></th>\n",
       "      <th>A</th>\n",
       "      <th>B</th>\n",
       "      <th>C</th>\n",
       "      <th>D</th>\n",
       "      <th>E</th>\n",
       "      <th>F</th>\n",
       "      <th>G</th>\n",
       "    </tr>\n",
       "  </thead>\n",
       "  <tbody>\n",
       "    <tr>\n",
       "      <th>295</th>\n",
       "      <td>48.0</td>\n",
       "      <td>624.0</td>\n",
       "      <td>65.0</td>\n",
       "      <td>450.0</td>\n",
       "      <td>34</td>\n",
       "      <td>37.73</td>\n",
       "      <td>44</td>\n",
       "    </tr>\n",
       "    <tr>\n",
       "      <th>296</th>\n",
       "      <td>48.0</td>\n",
       "      <td>652.8</td>\n",
       "      <td>65.0</td>\n",
       "      <td>450.0</td>\n",
       "      <td>35</td>\n",
       "      <td>39.47</td>\n",
       "      <td>46</td>\n",
       "    </tr>\n",
       "    <tr>\n",
       "      <th>297</th>\n",
       "      <td>48.0</td>\n",
       "      <td>672.0</td>\n",
       "      <td>65.0</td>\n",
       "      <td>450.0</td>\n",
       "      <td>36</td>\n",
       "      <td>40.64</td>\n",
       "      <td>48</td>\n",
       "    </tr>\n",
       "    <tr>\n",
       "      <th>298</th>\n",
       "      <td>48.0</td>\n",
       "      <td>672.0</td>\n",
       "      <td>65.0</td>\n",
       "      <td>450.0</td>\n",
       "      <td>36</td>\n",
       "      <td>40.64</td>\n",
       "      <td>48</td>\n",
       "    </tr>\n",
       "    <tr>\n",
       "      <th>299</th>\n",
       "      <td>48.0</td>\n",
       "      <td>672.0</td>\n",
       "      <td>65.0</td>\n",
       "      <td>450.0</td>\n",
       "      <td>36</td>\n",
       "      <td>40.64</td>\n",
       "      <td>48</td>\n",
       "    </tr>\n",
       "  </tbody>\n",
       "</table>\n",
       "</div>"
      ],
      "text/plain": [
       "        A      B     C      D   E      F   G\n",
       "295  48.0  624.0  65.0  450.0  34  37.73  44\n",
       "296  48.0  652.8  65.0  450.0  35  39.47  46\n",
       "297  48.0  672.0  65.0  450.0  36  40.64  48\n",
       "298  48.0  672.0  65.0  450.0  36  40.64  48\n",
       "299  48.0  672.0  65.0  450.0  36  40.64  48"
      ]
     },
     "execution_count": 11,
     "metadata": {},
     "output_type": "execute_result"
    }
   ],
   "source": [
    "df.tail()"
   ]
  },
  {
   "cell_type": "code",
   "execution_count": 12,
   "id": "19885b57",
   "metadata": {},
   "outputs": [
    {
     "data": {
      "text/html": [
       "<div>\n",
       "<style scoped>\n",
       "    .dataframe tbody tr th:only-of-type {\n",
       "        vertical-align: middle;\n",
       "    }\n",
       "\n",
       "    .dataframe tbody tr th {\n",
       "        vertical-align: top;\n",
       "    }\n",
       "\n",
       "    .dataframe thead th {\n",
       "        text-align: right;\n",
       "    }\n",
       "</style>\n",
       "<table border=\"1\" class=\"dataframe\">\n",
       "  <thead>\n",
       "    <tr style=\"text-align: right;\">\n",
       "      <th></th>\n",
       "      <th>A</th>\n",
       "      <th>B</th>\n",
       "      <th>C</th>\n",
       "      <th>D</th>\n",
       "      <th>E</th>\n",
       "      <th>F</th>\n",
       "      <th>G</th>\n",
       "    </tr>\n",
       "  </thead>\n",
       "  <tbody>\n",
       "    <tr>\n",
       "      <th>0</th>\n",
       "      <td>21.6</td>\n",
       "      <td>292.0</td>\n",
       "      <td>65.0</td>\n",
       "      <td>3.0</td>\n",
       "      <td>22</td>\n",
       "      <td>24.51</td>\n",
       "      <td>29</td>\n",
       "    </tr>\n",
       "    <tr>\n",
       "      <th>1</th>\n",
       "      <td>36.0</td>\n",
       "      <td>122.4</td>\n",
       "      <td>65.0</td>\n",
       "      <td>3.0</td>\n",
       "      <td>9</td>\n",
       "      <td>10.29</td>\n",
       "      <td>12</td>\n",
       "    </tr>\n",
       "    <tr>\n",
       "      <th>2</th>\n",
       "      <td>36.0</td>\n",
       "      <td>187.2</td>\n",
       "      <td>65.0</td>\n",
       "      <td>3.0</td>\n",
       "      <td>14</td>\n",
       "      <td>15.73</td>\n",
       "      <td>18</td>\n",
       "    </tr>\n",
       "    <tr>\n",
       "      <th>3</th>\n",
       "      <td>36.0</td>\n",
       "      <td>252.0</td>\n",
       "      <td>65.0</td>\n",
       "      <td>3.0</td>\n",
       "      <td>19</td>\n",
       "      <td>21.18</td>\n",
       "      <td>25</td>\n",
       "    </tr>\n",
       "    <tr>\n",
       "      <th>4</th>\n",
       "      <td>36.0</td>\n",
       "      <td>374.4</td>\n",
       "      <td>65.0</td>\n",
       "      <td>3.0</td>\n",
       "      <td>37</td>\n",
       "      <td>31.46</td>\n",
       "      <td>37</td>\n",
       "    </tr>\n",
       "  </tbody>\n",
       "</table>\n",
       "</div>"
      ],
      "text/plain": [
       "      A      B     C    D   E      F   G\n",
       "0  21.6  292.0  65.0  3.0  22  24.51  29\n",
       "1  36.0  122.4  65.0  3.0   9  10.29  12\n",
       "2  36.0  187.2  65.0  3.0  14  15.73  18\n",
       "3  36.0  252.0  65.0  3.0  19  21.18  25\n",
       "4  36.0  374.4  65.0  3.0  37  31.46  37"
      ]
     },
     "execution_count": 12,
     "metadata": {},
     "output_type": "execute_result"
    }
   ],
   "source": [
    "df.head()"
   ]
  },
  {
   "cell_type": "code",
   "execution_count": 13,
   "id": "fdac7fb7",
   "metadata": {},
   "outputs": [
    {
     "data": {
      "text/plain": [
       "2100"
      ]
     },
     "execution_count": 13,
     "metadata": {},
     "output_type": "execute_result"
    }
   ],
   "source": [
    "df.size"
   ]
  },
  {
   "cell_type": "code",
   "execution_count": 14,
   "id": "d7fe3c41",
   "metadata": {},
   "outputs": [
    {
     "data": {
      "text/plain": [
       "<bound method DataFrame.count of         A      B     C      D   E      F   G\n",
       "0    21.6  292.0  65.0    3.0  22  24.51  29\n",
       "1    36.0  122.4  65.0    3.0   9  10.29  12\n",
       "2    36.0  187.2  65.0    3.0  14  15.73  18\n",
       "3    36.0  252.0  65.0    3.0  19  21.18  25\n",
       "4    36.0  374.4  65.0    3.0  37  31.46  37\n",
       "..    ...    ...   ...    ...  ..    ...  ..\n",
       "295  48.0  624.0  65.0  450.0  34  37.73  44\n",
       "296  48.0  652.8  65.0  450.0  35  39.47  46\n",
       "297  48.0  672.0  65.0  450.0  36  40.64  48\n",
       "298  48.0  672.0  65.0  450.0  36  40.64  48\n",
       "299  48.0  672.0  65.0  450.0  36  40.64  48\n",
       "\n",
       "[300 rows x 7 columns]>"
      ]
     },
     "execution_count": 14,
     "metadata": {},
     "output_type": "execute_result"
    }
   ],
   "source": [
    "df.count"
   ]
  },
  {
   "cell_type": "code",
   "execution_count": 15,
   "id": "cbd06ccd",
   "metadata": {},
   "outputs": [
    {
     "data": {
      "text/plain": [
       "48    20\n",
       "36    15\n",
       "56    12\n",
       "40    11\n",
       "50    10\n",
       "60    10\n",
       "42     9\n",
       "18     9\n",
       "66     9\n",
       "13     8\n",
       "26     7\n",
       "37     7\n",
       "15     7\n",
       "49     6\n",
       "45     6\n",
       "8      6\n",
       "70     6\n",
       "52     6\n",
       "55     6\n",
       "46     6\n",
       "44     6\n",
       "30     6\n",
       "34     6\n",
       "83     6\n",
       "62     6\n",
       "21     6\n",
       "39     5\n",
       "35     5\n",
       "25     5\n",
       "33     4\n",
       "32     4\n",
       "43     4\n",
       "72     3\n",
       "20     3\n",
       "29     3\n",
       "47     3\n",
       "27     3\n",
       "84     3\n",
       "31     3\n",
       "65     3\n",
       "67     3\n",
       "99     3\n",
       "12     3\n",
       "10     3\n",
       "24     3\n",
       "9      2\n",
       "28     2\n",
       "19     2\n",
       "22     2\n",
       "6      2\n",
       "11     2\n",
       "7      2\n",
       "17     2\n",
       "71     2\n",
       "59     2\n",
       "51     2\n",
       "Name: G, dtype: int64"
      ]
     },
     "execution_count": 15,
     "metadata": {},
     "output_type": "execute_result"
    }
   ],
   "source": [
    "df['G'].value_counts()"
   ]
  },
  {
   "cell_type": "code",
   "execution_count": 16,
   "id": "a7e28f61",
   "metadata": {},
   "outputs": [
    {
     "data": {
      "text/plain": [
       "Index(['A', 'B', 'C', 'D', 'E', 'F', 'G'], dtype='object')"
      ]
     },
     "execution_count": 16,
     "metadata": {},
     "output_type": "execute_result"
    }
   ],
   "source": [
    "df.columns"
   ]
  },
  {
   "cell_type": "code",
   "execution_count": 17,
   "id": "b79def79",
   "metadata": {},
   "outputs": [],
   "source": [
    "feature_df=df[['A', 'B', 'C', 'D']]"
   ]
  },
  {
   "cell_type": "code",
   "execution_count": 18,
   "id": "99eea556",
   "metadata": {},
   "outputs": [],
   "source": [
    "X=np.asarray(feature_df)"
   ]
  },
  {
   "cell_type": "code",
   "execution_count": 19,
   "id": "85e02836",
   "metadata": {},
   "outputs": [],
   "source": [
    "y=np.asarray(df['G'])"
   ]
  },
  {
   "cell_type": "code",
   "execution_count": 20,
   "id": "0c51c640",
   "metadata": {},
   "outputs": [],
   "source": [
    "from sklearn.model_selection import train_test_split"
   ]
  },
  {
   "cell_type": "code",
   "execution_count": 21,
   "id": "79c405ec",
   "metadata": {},
   "outputs": [],
   "source": [
    "X_train,X_test,y_train,y_test=train_test_split(X,y,test_size=0.2,random_state=4)"
   ]
  },
  {
   "cell_type": "code",
   "execution_count": 22,
   "id": "eae23661",
   "metadata": {},
   "outputs": [
    {
     "data": {
      "text/plain": [
       "(240, 4)"
      ]
     },
     "execution_count": 22,
     "metadata": {},
     "output_type": "execute_result"
    }
   ],
   "source": [
    "X_train.shape"
   ]
  },
  {
   "cell_type": "code",
   "execution_count": 23,
   "id": "67d4b3b1",
   "metadata": {},
   "outputs": [
    {
     "data": {
      "text/plain": [
       "(240,)"
      ]
     },
     "execution_count": 23,
     "metadata": {},
     "output_type": "execute_result"
    }
   ],
   "source": [
    "y_train.shape"
   ]
  },
  {
   "cell_type": "code",
   "execution_count": 24,
   "id": "0925bbec",
   "metadata": {},
   "outputs": [
    {
     "data": {
      "text/plain": [
       "(60, 4)"
      ]
     },
     "execution_count": 24,
     "metadata": {},
     "output_type": "execute_result"
    }
   ],
   "source": [
    "X_test.shape"
   ]
  },
  {
   "cell_type": "code",
   "execution_count": 25,
   "id": "e27f2d1b",
   "metadata": {},
   "outputs": [
    {
     "data": {
      "text/plain": [
       "(60,)"
      ]
     },
     "execution_count": 25,
     "metadata": {},
     "output_type": "execute_result"
    }
   ],
   "source": [
    "y_test.shape"
   ]
  },
  {
   "cell_type": "code",
   "execution_count": 26,
   "id": "6b19befd",
   "metadata": {},
   "outputs": [],
   "source": [
    "from sklearn import svm"
   ]
  },
  {
   "cell_type": "code",
   "execution_count": 27,
   "id": "b74b968b",
   "metadata": {},
   "outputs": [],
   "source": [
    "from sklearn.svm import SVC"
   ]
  },
  {
   "cell_type": "code",
   "execution_count": 28,
   "id": "9010f702",
   "metadata": {},
   "outputs": [],
   "source": [
    "clsf=svm.SVC(kernel='linear',gamma='auto')"
   ]
  },
  {
   "cell_type": "code",
   "execution_count": 29,
   "id": "d90aad7d",
   "metadata": {},
   "outputs": [
    {
     "data": {
      "text/plain": [
       "SVC(gamma='auto', kernel='linear')"
      ]
     },
     "execution_count": 29,
     "metadata": {},
     "output_type": "execute_result"
    }
   ],
   "source": [
    "clsf.fit(X_train,y_train)"
   ]
  },
  {
   "cell_type": "code",
   "execution_count": 30,
   "id": "7b943c1f",
   "metadata": {},
   "outputs": [],
   "source": [
    "y_predict=clsf.predict(X_test)"
   ]
  },
  {
   "cell_type": "code",
   "execution_count": 31,
   "id": "4b62d151",
   "metadata": {},
   "outputs": [],
   "source": [
    "from sklearn.metrics import classification_report"
   ]
  },
  {
   "cell_type": "code",
   "execution_count": 32,
   "id": "ccb59ccf",
   "metadata": {},
   "outputs": [
    {
     "name": "stdout",
     "output_type": "stream",
     "text": [
      "              precision    recall  f1-score   support\n",
      "\n",
      "           7       1.00      1.00      1.00         1\n",
      "           8       1.00      1.00      1.00         2\n",
      "           9       0.00      0.00      0.00         0\n",
      "          11       0.00      0.00      0.00         1\n",
      "          12       1.00      1.00      1.00         1\n",
      "          13       1.00      0.50      0.67         2\n",
      "          17       1.00      1.00      1.00         1\n",
      "          18       1.00      1.00      1.00         1\n",
      "          21       1.00      1.00      1.00         1\n",
      "          24       1.00      1.00      1.00         1\n",
      "          26       1.00      1.00      1.00         1\n",
      "          27       1.00      1.00      1.00         1\n",
      "          31       1.00      1.00      1.00         2\n",
      "          32       1.00      1.00      1.00         1\n",
      "          33       1.00      1.00      1.00         1\n",
      "          35       0.00      0.00      0.00         0\n",
      "          36       1.00      0.75      0.86         4\n",
      "          37       1.00      1.00      1.00         2\n",
      "          39       1.00      1.00      1.00         2\n",
      "          40       1.00      1.00      1.00         4\n",
      "          42       1.00      1.00      1.00         1\n",
      "          43       1.00      1.00      1.00         1\n",
      "          44       1.00      1.00      1.00         3\n",
      "          46       1.00      1.00      1.00         2\n",
      "          48       1.00      1.00      1.00         4\n",
      "          49       1.00      1.00      1.00         3\n",
      "          50       1.00      1.00      1.00         1\n",
      "          51       1.00      1.00      1.00         1\n",
      "          52       1.00      1.00      1.00         1\n",
      "          56       1.00      1.00      1.00         2\n",
      "          62       1.00      1.00      1.00         2\n",
      "          65       1.00      1.00      1.00         2\n",
      "          66       1.00      1.00      1.00         5\n",
      "          70       1.00      1.00      1.00         1\n",
      "          72       1.00      1.00      1.00         1\n",
      "          99       1.00      1.00      1.00         1\n",
      "\n",
      "    accuracy                           0.95        60\n",
      "   macro avg       0.92      0.90      0.90        60\n",
      "weighted avg       0.98      0.95      0.96        60\n",
      "\n"
     ]
    },
    {
     "name": "stderr",
     "output_type": "stream",
     "text": [
      "C:\\Users\\Nexgits\\anaconda3\\lib\\site-packages\\sklearn\\metrics\\_classification.py:1318: UndefinedMetricWarning: Recall and F-score are ill-defined and being set to 0.0 in labels with no true samples. Use `zero_division` parameter to control this behavior.\n",
      "  _warn_prf(average, modifier, msg_start, len(result))\n",
      "C:\\Users\\Nexgits\\anaconda3\\lib\\site-packages\\sklearn\\metrics\\_classification.py:1318: UndefinedMetricWarning: Recall and F-score are ill-defined and being set to 0.0 in labels with no true samples. Use `zero_division` parameter to control this behavior.\n",
      "  _warn_prf(average, modifier, msg_start, len(result))\n",
      "C:\\Users\\Nexgits\\anaconda3\\lib\\site-packages\\sklearn\\metrics\\_classification.py:1318: UndefinedMetricWarning: Recall and F-score are ill-defined and being set to 0.0 in labels with no true samples. Use `zero_division` parameter to control this behavior.\n",
      "  _warn_prf(average, modifier, msg_start, len(result))\n"
     ]
    }
   ],
   "source": [
    "print(classification_report(y_test,y_predict))"
   ]
  },
  {
   "cell_type": "code",
   "execution_count": 33,
   "id": "52e7d310",
   "metadata": {},
   "outputs": [],
   "source": [
    "feature_df=df[['A', 'B', 'C', 'D']]\n",
    "X=np.asarray(feature_df)\n",
    "y=np.asarray(df['E'])\n",
    "X_train,X_test,y_train,y_test=train_test_split(X,y,test_size=0.2,random_state=4)"
   ]
  },
  {
   "cell_type": "code",
   "execution_count": 34,
   "id": "31b89b17",
   "metadata": {},
   "outputs": [],
   "source": [
    "clsf2=svm.SVC(kernel='linear',gamma='auto')\n",
    "clsf.fit(X_train,y_train)\n",
    "y_predict=clsf.predict(X_test)"
   ]
  },
  {
   "cell_type": "code",
   "execution_count": 35,
   "id": "f3a507bb",
   "metadata": {},
   "outputs": [
    {
     "name": "stdout",
     "output_type": "stream",
     "text": [
      "              precision    recall  f1-score   support\n",
      "\n",
      "           5       1.00      1.00      1.00         1\n",
      "           6       1.00      1.00      1.00         1\n",
      "           7       1.00      1.00      1.00         1\n",
      "           8       1.00      1.00      1.00         1\n",
      "           9       1.00      1.00      1.00         1\n",
      "          10       1.00      1.00      1.00         2\n",
      "          13       1.00      1.00      1.00         1\n",
      "          14       1.00      1.00      1.00         1\n",
      "          17       1.00      1.00      1.00         1\n",
      "          19       1.00      1.00      1.00         1\n",
      "          21       1.00      1.00      1.00         1\n",
      "          22       1.00      1.00      1.00         1\n",
      "          25       1.00      1.00      1.00         2\n",
      "          26       1.00      1.00      1.00         1\n",
      "          27       1.00      0.67      0.80         3\n",
      "          28       0.00      0.00      0.00         0\n",
      "          29       1.00      1.00      1.00         2\n",
      "          30       1.00      1.00      1.00         3\n",
      "          31       0.00      0.00      0.00         0\n",
      "          32       1.00      1.00      1.00         4\n",
      "          33       1.00      1.00      1.00         1\n",
      "          34       1.00      1.00      1.00         3\n",
      "          35       1.00      0.33      0.50         3\n",
      "          36       0.75      1.00      0.86         3\n",
      "          37       1.00      1.00      1.00         3\n",
      "          38       1.00      1.00      1.00         1\n",
      "          39       1.00      1.00      1.00         1\n",
      "          40       1.00      1.00      1.00         1\n",
      "          41       1.00      1.00      1.00         1\n",
      "          42       1.00      1.00      1.00         1\n",
      "          44       1.00      1.00      1.00         2\n",
      "          47       1.00      1.00      1.00         2\n",
      "          49       1.00      1.00      1.00         2\n",
      "          51       1.00      1.00      1.00         5\n",
      "          56       1.00      1.00      1.00         1\n",
      "          59       1.00      1.00      1.00         1\n",
      "          75       1.00      1.00      1.00         1\n",
      "\n",
      "    accuracy                           0.95        60\n",
      "   macro avg       0.94      0.92      0.92        60\n",
      "weighted avg       0.99      0.95      0.96        60\n",
      "\n"
     ]
    },
    {
     "name": "stderr",
     "output_type": "stream",
     "text": [
      "C:\\Users\\Nexgits\\anaconda3\\lib\\site-packages\\sklearn\\metrics\\_classification.py:1318: UndefinedMetricWarning: Recall and F-score are ill-defined and being set to 0.0 in labels with no true samples. Use `zero_division` parameter to control this behavior.\n",
      "  _warn_prf(average, modifier, msg_start, len(result))\n",
      "C:\\Users\\Nexgits\\anaconda3\\lib\\site-packages\\sklearn\\metrics\\_classification.py:1318: UndefinedMetricWarning: Recall and F-score are ill-defined and being set to 0.0 in labels with no true samples. Use `zero_division` parameter to control this behavior.\n",
      "  _warn_prf(average, modifier, msg_start, len(result))\n",
      "C:\\Users\\Nexgits\\anaconda3\\lib\\site-packages\\sklearn\\metrics\\_classification.py:1318: UndefinedMetricWarning: Recall and F-score are ill-defined and being set to 0.0 in labels with no true samples. Use `zero_division` parameter to control this behavior.\n",
      "  _warn_prf(average, modifier, msg_start, len(result))\n"
     ]
    }
   ],
   "source": [
    "print(classification_report(y_test,y_predict))"
   ]
  },
  {
   "cell_type": "code",
   "execution_count": null,
   "id": "2de5cdc5",
   "metadata": {},
   "outputs": [],
   "source": []
  }
 ],
 "metadata": {
  "kernelspec": {
   "display_name": "Python 3 (ipykernel)",
   "language": "python",
   "name": "python3"
  },
  "language_info": {
   "codemirror_mode": {
    "name": "ipython",
    "version": 3
   },
   "file_extension": ".py",
   "mimetype": "text/x-python",
   "name": "python",
   "nbconvert_exporter": "python",
   "pygments_lexer": "ipython3",
   "version": "3.9.12"
  }
 },
 "nbformat": 4,
 "nbformat_minor": 5
}
